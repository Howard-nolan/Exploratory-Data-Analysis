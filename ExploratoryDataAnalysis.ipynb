{
 "cells": [
  {
   "cell_type": "markdown",
   "metadata": {},
   "source": [
    "# Exploratory Data Analysis \n",
    "\n",
    "This file is composed of components of the EDA process for preliminary exploration of your data. This code is not a complete EDA, but rather a preliminary examination of data. Please see the Table of Contents to explore different areas of EDA.\n",
    "***\n",
    "\n",
    "##### **Input:** .csv file with entire dataset. Will need to interpolate prior to using unsupervised learning if NaN exist in your dataset\n",
    "##### **Output:** Figures for EDA\n",
    "##### **Dependencies:** \n",
    "***\n",
    "\n",
    "##### Format of input: \n",
    ".csv file with entire dataset \n",
    "***\n",
    "\n",
    "**Check:** \n",
    "* Will need to interpolate data/remove NaN before doing any unsupervised learning for EDA\n",
    "\n",
    "**Sources:**\n",
    "\n",
    "***\n",
    "***"
   ]
  },
  {
   "cell_type": "markdown",
   "metadata": {},
   "source": [
    "## Table of Contents\n",
    "\n",
    "#### Exploratory Data Analysis\n",
    "* [Cleaning and Filtering Data](#read)\n",
    "* [Correlation Plots](#corr)\n",
    "* [Covariance Matrix](#cov)\n",
    "* [Missing Data Analysis](#miss)\n",
    "* [Outlier Analysis](#out)\n",
    "* [Histograms of Features](#hist)\n",
    "\n",
    "#### Unsupervised Learning\n",
    "* [Clustering](#cluster)\n",
    "    * [KNN Clustering](#knn)\n",
    "    * [Hierarchical Clustering](#hic)\n",
    "* [Principal Component Analysis (PCA)](#pca)\n",
    "\n",
    "\n",
    "***"
   ]
  },
  {
   "cell_type": "markdown",
   "metadata": {},
   "source": [
    "## Read data:\n",
    "<a id=\"read\"></a>"
   ]
  },
  {
   "cell_type": "code",
   "execution_count": null,
   "metadata": {},
   "outputs": [],
   "source": [
    "import pandas as pd\n",
    "data = pd.read_csv('/Users/joey/Desktop/DBDP/STEP-data/deidentified_data.csv')  #Change filename"
   ]
  },
  {
   "cell_type": "markdown",
   "metadata": {},
   "source": [
    "## Preliminary Exploratory Data Analysis:\n",
    "\n",
    "https://github.com/dformoso/sklearn-classification/blob/master/Data%20Science%20Workbook%20-%20Census%20Income%20Dataset.ipynb"
   ]
  },
  {
   "cell_type": "code",
   "execution_count": null,
   "metadata": {},
   "outputs": [],
   "source": [
    "len(data)"
   ]
  },
  {
   "cell_type": "code",
   "execution_count": null,
   "metadata": {},
   "outputs": [],
   "source": [
    "data.describe()"
   ]
  },
  {
   "cell_type": "markdown",
   "metadata": {},
   "source": [
    "### Correlation Plots\n",
    "<a id=\"corr\" ></a>\n"
   ]
  },
  {
   "cell_type": "code",
   "execution_count": null,
   "metadata": {},
   "outputs": [],
   "source": [
    "%matplotlib inline"
   ]
  },
  {
   "cell_type": "code",
   "execution_count": null,
   "metadata": {},
   "outputs": [],
   "source": [
    "import seaborn as sns\n",
    "corr = data.corr()\n",
    "sns.heatmap(corr, \n",
    "        xticklabels=corr.columns,\n",
    "        yticklabels=corr.columns)"
   ]
  },
  {
   "cell_type": "code",
   "execution_count": null,
   "metadata": {},
   "outputs": [],
   "source": [
    "#Correlation Plot\n",
    "corr = data.corr()\n",
    "sns.heatmap(corr, \n",
    "        xticklabels=corr.columns,\n",
    "        yticklabels=corr.columns)"
   ]
  },
  {
   "cell_type": "markdown",
   "metadata": {},
   "source": [
    "## Covariance Matrix\n",
    "<a id=\"cov\"></a>\n",
    "\n",
    "Compute pairwise covariance of columns\n",
    "\n",
    "Covariance is a measure of how much two random variables vary together. It’s similar to variance, but where variance tells you how a single variable varies, co variance tells you how two variables vary together.\n",
    "*Covariance must be scaled.*\n",
    "\n",
    "- Python: https://www.geeksforgeeks.org/python-pandas-dataframe-cov/\n",
    "- Math/Interpretation: https://www.statisticshowto.datasciencecentral.com/covariance/"
   ]
  },
  {
   "cell_type": "code",
   "execution_count": null,
   "metadata": {
    "scrolled": true
   },
   "outputs": [],
   "source": [
    "#Need to standardize scale:\n",
    "cv_df = data.drop(columns=[]) #drop all columns that are non-numeric\n",
    "from sklearn.preprocessing import StandardScaler\n",
    "sc = StandardScaler()\n",
    "cv_np = sc.fit_transform(cv_df)\n",
    "cv_df = pd.DataFrame(cv_np)\n",
    "#cv_df.columns = [] #name columns if desired\n",
    "\n",
    "#covariance \n",
    "cv_df.cov()"
   ]
  },
  {
   "cell_type": "markdown",
   "metadata": {},
   "source": [
    "## Check for missing values\n",
    "<a id=\"miss\"></a>\n",
    "#### Very cool package for missing values (includes heatmaps of missing, bar graphs, and matrices of missing values):\n",
    "https://github.com/ResidentMario/missingno"
   ]
  },
  {
   "cell_type": "code",
   "execution_count": null,
   "metadata": {},
   "outputs": [],
   "source": [
    "import missingno as msno\n",
    "\n",
    "#Check for missing data\n",
    "msno.matrix(data)"
   ]
  },
  {
   "cell_type": "markdown",
   "metadata": {},
   "source": [
    "## Plot Distribution of Each Feature\n",
    "<a id=\"dist\"></a>"
   ]
  },
  {
   "cell_type": "markdown",
   "metadata": {},
   "source": [
    "### Outcome variable \n",
    "\n",
    "To look at how the outcome variable is balanced:"
   ]
  },
  {
   "cell_type": "code",
   "execution_count": null,
   "metadata": {},
   "outputs": [],
   "source": [
    "import matplotlib.pyplot as plt\n",
    "\n",
    "plt.style.use('seaborn-whitegrid')\n",
    "fig = plt.figure(figsize=(20,1)) \n",
    "sns.countplot(y=outcomevariablehere, data=data); #put outcomevariable here"
   ]
  },
  {
   "cell_type": "markdown",
   "metadata": {},
   "source": [
    "### Plot distributions by outcome class \n",
    "<a id=\"dist-class\"></a>"
   ]
  },
  {
   "cell_type": "code",
   "execution_count": null,
   "metadata": {},
   "outputs": [],
   "source": [
    "import seaborn as sns\n",
    "\n",
    "# Sort dataframe by outcome\n",
    "\n",
    "#Plot outcome variables\n",
    "sns.distplot(outcome_a[[X1]], hist=False, rug=True)\n",
    "sns.distplot(outcome_b[[X1]], hist=False, rug=True)\n",
    "sns.distplot(outcome_c[[X1]], hist=False, rug=True)\n",
    "\n",
    "plt.title()\n",
    "plt.xlabel()\n",
    "plt.legend(labels=[])"
   ]
  },
  {
   "cell_type": "markdown",
   "metadata": {},
   "source": [
    "Plot all variables at once:"
   ]
  },
  {
   "cell_type": "markdown",
   "metadata": {},
   "source": [
    "### Outlier Analysis\n",
    "<a id=\"out\"></a>"
   ]
  },
  {
   "cell_type": "code",
   "execution_count": null,
   "metadata": {},
   "outputs": [],
   "source": [
    "sns.boxplot(y=variablehere, x=variablehere, data=data, palette=\"Set1\")"
   ]
  },
  {
   "cell_type": "markdown",
   "metadata": {},
   "source": [
    "## Plot histograms of all variables in data"
   ]
  },
  {
   "cell_type": "code",
   "execution_count": null,
   "metadata": {},
   "outputs": [],
   "source": [
    "#    def makehist(datainput, label, color):\n",
    "    fig = plt.figure(figsize=(16,4))\n",
    "    mean = datainput.mean(axis = 0) #changeoutcomevar\n",
    "    plt.hist(data['Variable'], bins=(20), align='mid', color='green', alpha=0.5)\n",
    "    plt.axvline(x=mean, color=color, linestyle='-')\n",
    "    plt.xlabel('Variable')\n",
    "    plt.ylabel('Frequency')\n",
    "    plt.title((label + ' Histogram'))\n",
    "    plt.tight_layout()\n",
    "    plt.savefig((filesource + 'Variable' + '.png'), dpi=100) #change filesource or add as input to function if variable\n",
    "    print(('Saved plot of ' + 'Variable'))"
   ]
  },
  {
   "cell_type": "code",
   "execution_count": null,
   "metadata": {},
   "outputs": [],
   "source": [
    "# makehist(data['Variable'], 'Variable', 'green')\n",
    "#Repeat above command for each numeric Variable in data"
   ]
  },
  {
   "cell_type": "markdown",
   "metadata": {},
   "source": [
    "## Plot boxplot of all variables in data"
   ]
  },
  {
   "cell_type": "code",
   "execution_count": null,
   "metadata": {},
   "outputs": [],
   "source": [
    "# def makebox(datainput, label):\n",
    "    fig = plt.figure(figsize =(16, 4))\n",
    "    plt.boxplot(data['Variable'])\n",
    "    plt.title(('Variable' + ' Box Plot'))\n",
    "    plt.savefig((filesource + 'Variable' + '.png'), dpi=100) #change filesource or add as input to function if variable\n",
    "    print(('Saved plot of ' + 'Variable'))"
   ]
  },
  {
   "cell_type": "code",
   "execution_count": null,
   "metadata": {},
   "outputs": [],
   "source": [
    "# makebox(data['Variable'], 'Variable')\n",
    "#Repeat above command for each numeric Variable in data"
   ]
  },
  {
   "cell_type": "markdown",
   "metadata": {},
   "source": [
    "## Plot leafplot of all variables in data"
   ]
  },
  {
   "cell_type": "code",
   "execution_count": null,
   "metadata": {},
   "outputs": [],
   "source": [
    "# def makeleaf(datainput, label):\n",
    "    fig = plt.figure(figsize =(16, 4))\n",
    "    plt.stem(data['Variable'])\n",
    "    plt.title(('Variable' + ' Leaf Plot'))\n",
    "    plt.savefig((filesource + 'Variable' + '.png'), dpi=100) #change filesource or add as input to function if variable\n",
    "    print(('Saved plot of ' + 'Variable'))"
   ]
  },
  {
   "cell_type": "code",
   "execution_count": null,
   "metadata": {},
   "outputs": [],
   "source": [
    "# makeleaf(data['Variable'], 'Variable')\n",
    "#Repeat above command for each numeric Variable in data"
   ]
  },
  {
   "cell_type": "markdown",
   "metadata": {},
   "source": [
    "## Plot bubble chart of all variables in data"
   ]
  },
  {
   "cell_type": "code",
   "execution_count": null,
   "metadata": {},
   "outputs": [],
   "source": [
    "# def makebubble(x, y, s, label):\n",
    "    fig = plt.figure(figsize =(16, 4))\n",
    "    plt.scatter(x=data['Variable 1'], y=data['Variable 2'], s=data['Size Variable'])\n",
    "    plt.title(('Variable 1 vs Variable 2' + ' Bubble plot'))\n",
    "    plt.xlabel(XLabel) #Put desired name for x Axis here\n",
    "    plt.ylabel(YLabel) #Put desired name for y Axis here\n",
    "    plt.savefig((filesource + 'Variable 1 vs Variable 2' + '.png'), dpi=100) #change filesource or add as input to function if variable\n",
    "    print(('Saved plot of ' + 'Variable 1 vs Variable 2'))\n",
    "    \n",
    "# fig = px.scatter(df.query(\"\"), x=\"statistics\", y = \"Medical Methods\", size = \"pop\", color=\"corr.columns\")  # need to change for color's names"
   ]
  },
  {
   "cell_type": "code",
   "execution_count": null,
   "metadata": {
    "scrolled": true
   },
   "outputs": [],
   "source": [
    "# makebubble(data['Variable 1'], data['Variable 2'], data['Size Variable'], 'Variable 1 vs Variable 2')\n",
    "#Repeat above command for each numeric Variable in data"
   ]
  },
  {
   "cell_type": "markdown",
   "metadata": {},
   "source": [
    "## Plot run chart of all variables in data"
   ]
  },
  {
   "cell_type": "code",
   "execution_count": null,
   "metadata": {},
   "outputs": [],
   "source": [
    "# def makerun(xAxis, yAxis, label):\n",
    "    fig = plt.plot(data['Variable'], data['Variable'])\n",
    "    plt.title((data['Variable'] + ' Run Chart'))\n",
    "    plt.xlabel(XLabel) #Put desired name for x Axis here\n",
    "    plt.ylabel(YLabel) #Put desired name for y Axis here\n",
    "    plt.savefig((filesource + data['Variable'] + '.png'), dpi=100) #change filesource or add as input to function if variable\n",
    "    print(('Saved Run Chart of ' + data['Variable']))"
   ]
  },
  {
   "cell_type": "code",
   "execution_count": null,
   "metadata": {
    "scrolled": true
   },
   "outputs": [],
   "source": [
    "# makerun(data['Variable'], data['Variable'], data['Variable'])\n",
    "#Repeat above command for each numeric Variable in data"
   ]
  },
  {
   "cell_type": "markdown",
   "metadata": {},
   "source": [
    "## Plot multivariate chart of all variables in data"
   ]
  },
  {
   "cell_type": "code",
   "execution_count": null,
   "metadata": {},
   "outputs": [],
   "source": [
    "# def makemultivariate(var1, var2, label):\n",
    "    fig = plt.plot(data['Variable'], data['Variable'])\n",
    "    plt.title(('Variable' + ' Multivariate Chart'))\n",
    "    plt.xlabel(XLabel) #Put desired name for X Axis here\n",
    "    plt.ylabel(YLabel) #Put desired name for Y Axis here\n",
    "    plt.savefig((filesource + 'Variable' + '.png'), dpi=100) #change filesource or add as input to function if variable\n",
    "    print(('Saved Run Chart of ' + 'Variable'))"
   ]
  },
  {
   "cell_type": "code",
   "execution_count": null,
   "metadata": {},
   "outputs": [],
   "source": [
    "# make_multivariate(data['Variable'], data['Variable'], 'Variable')\n",
    "#Repeat above command for each numeric Variable in data"
   ]
  },
  {
   "cell_type": "markdown",
   "metadata": {},
   "source": [
    "## Plot scatterplot of all variables in data"
   ]
  },
  {
   "cell_type": "code",
   "execution_count": null,
   "metadata": {},
   "outputs": [],
   "source": [
    "# def makescatter(x, y, label):\n",
    "    fig = plt.figure(figsize=(16,4))\n",
    "    plt.scatter(x=data['Variable'], y=data['Variable'])\n",
    "    plt.title(('Variable' + ' Scatter plot'))\n",
    "    plt.xlabel(XLabel) #Put desired name for X Axis here\n",
    "    plt.ylabel(YLabel) #Put desired name for Y Axis here\n",
    "    plt.savefig((filesource + 'Variable' + '.png'), dpi=100) #change filesource or add as input to function if variable\n",
    "    print(('Saved plot of ' + 'Variable'))"
   ]
  },
  {
   "cell_type": "code",
   "execution_count": null,
   "metadata": {},
   "outputs": [],
   "source": [
    "#makeScatterplot(data['Variable'], data['Variable'], 'Variable')\n",
    "#Repeat above command for each numeric Variable in data"
   ]
  },
  {
   "cell_type": "markdown",
   "metadata": {},
   "source": [
    "## Examples of Visualizations\n",
    "If you want to try these examples of visualizations, you need to uncomment all the previous functions like 'makebox', 'makeleaf', 'makebubble'"
   ]
  },
  {
   "cell_type": "markdown",
   "metadata": {},
   "source": [
    "### Box plot"
   ]
  },
  {
   "cell_type": "code",
   "execution_count": null,
   "metadata": {},
   "outputs": [],
   "source": [
    "makebox(data['Skin Tone'], 'Skin Tone')"
   ]
  },
  {
   "cell_type": "markdown",
   "metadata": {},
   "source": [
    "### Leaf plot"
   ]
  },
  {
   "cell_type": "code",
   "execution_count": null,
   "metadata": {},
   "outputs": [],
   "source": [
    "makeleaf(data['Apple Watch'], 'Apple Watch')"
   ]
  },
  {
   "cell_type": "markdown",
   "metadata": {},
   "source": [
    "### Bubble Chart"
   ]
  },
  {
   "cell_type": "code",
   "execution_count": null,
   "metadata": {},
   "outputs": [],
   "source": [
    "makebubble(data[\"ECG\"], data['Apple Watch'], data['Skin Tone'], \"ECG\")"
   ]
  },
  {
   "cell_type": "markdown",
   "metadata": {},
   "source": [
    "### Run Chart"
   ]
  },
  {
   "cell_type": "code",
   "execution_count": null,
   "metadata": {},
   "outputs": [],
   "source": [
    "makerun(data['Apple Watch'], data['ECG'], \"Apple Watch vs ECG Data\")"
   ]
  },
  {
   "cell_type": "markdown",
   "metadata": {},
   "source": [
    "### Multivariate Chart"
   ]
  },
  {
   "cell_type": "code",
   "execution_count": null,
   "metadata": {},
   "outputs": [],
   "source": [
    "makemultivariate(data['ECG'], data['Apple Watch'], 'Apple Watch vs ECG Data')"
   ]
  },
  {
   "cell_type": "markdown",
   "metadata": {},
   "source": [
    "### Scatter Plot"
   ]
  },
  {
   "cell_type": "code",
   "execution_count": null,
   "metadata": {},
   "outputs": [],
   "source": [
    "makescatter(data['ECG'], data['Apple Watch'], 'ECG Data vs Apple Watch')"
   ]
  },
  {
   "cell_type": "markdown",
   "metadata": {},
   "source": [
    "## Clustering\n",
    "<a id=\"cluster\"></a>\n",
    "\n",
    "https://www.neuroelectrics.com/blog/clustering-methods-in-exploratory-analysis/"
   ]
  },
  {
   "cell_type": "code",
   "execution_count": null,
   "metadata": {},
   "outputs": [],
   "source": [
    "dfc = data.drop(columns=[]) # drop all non-numeric columns\n",
    "dfc.head()"
   ]
  },
  {
   "cell_type": "markdown",
   "metadata": {},
   "source": [
    "### K-means Clustering:\n",
    "<a id=\"knn\"></a>"
   ]
  },
  {
   "cell_type": "code",
   "execution_count": null,
   "metadata": {},
   "outputs": [],
   "source": [
    "from sklearn.cluster import KMeans\n",
    "# create kmeans object\n",
    "kmeans = KMeans(n_clusters=3)# fit kmeans object to data\n",
    "kmeans.fit(dfc)# print location of clusters learned by kmeans object\n",
    "#print(kmeans.cluster_centers_)# save new clusters for chart\n",
    "y_km = kmeans.fit_predict(dfc)"
   ]
  },
  {
   "cell_type": "code",
   "execution_count": null,
   "metadata": {},
   "outputs": [],
   "source": [
    "labels = kmeans.labels_\n",
    "dfc['clusters'] = labels"
   ]
  },
  {
   "cell_type": "markdown",
   "metadata": {},
   "source": [
    "### Hierarchical Clustering\n",
    "<a id=\"hic\"></a>\n",
    "\n",
    "*Agglomerative (data points are clustered using a bottim-up approach starting with individual data points)\n",
    "\n",
    "\n",
    "https://stackabuse.com/hierarchical-clustering-with-python-and-scikit-learn/"
   ]
  },
  {
   "cell_type": "code",
   "execution_count": null,
   "metadata": {},
   "outputs": [],
   "source": [
    "import scipy.cluster.hierarchy as shc\n",
    "import matplotlib.pyplot as plt\n",
    "\n",
    "plt.figure(figsize=(10, 7))\n",
    "plt.title(\"Data Dendograms\") # first show the dendograms so that we know how many clusters we need to scatter to\n",
    "dend = shc.dendrogram(shc.linkage(dfc, method='ward'))"
   ]
  },
  {
   "cell_type": "code",
   "execution_count": null,
   "metadata": {},
   "outputs": [],
   "source": [
    "# begin clustering\n",
    "from sklearn.cluster import AgglomerativeClustering\n",
    "\n",
    "cluster = AgglomerativeClustering(n_clusters=3, affinity='euclidean', linkage='ward')\n",
    "cluster.fit_predict(dfc) # see the label of all the data"
   ]
  },
  {
   "cell_type": "code",
   "execution_count": null,
   "metadata": {},
   "outputs": [],
   "source": [
    "plt.figure(figsize=(10,7))\n",
    "plt.scatter(dfc[:,0], dfc[:,1], c=cluster.labels_, cmap='rainbow') #plot for hieractical clustering"
   ]
  }
 ],
 "metadata": {
  "interpreter": {
   "hash": "c2a0d16ab2ef21d9ffd61da4743bf5eccc7864478b6988e54f4be7517ca730a8"
  },
  "kernelspec": {
   "display_name": "Python 3 (ipykernel)",
   "language": "python",
   "name": "python3"
  },
  "language_info": {
   "codemirror_mode": {
    "name": "ipython",
    "version": 3
   },
   "file_extension": ".py",
   "mimetype": "text/x-python",
   "name": "python",
   "nbconvert_exporter": "python",
   "pygments_lexer": "ipython3",
   "version": "3.9.12"
  }
 },
 "nbformat": 4,
 "nbformat_minor": 4
}
